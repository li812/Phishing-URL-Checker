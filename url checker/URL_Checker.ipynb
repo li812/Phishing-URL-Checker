{
 "cells": [
  {
   "cell_type": "code",
   "execution_count": 1,
   "id": "bdca5126-46ff-45a5-8da9-828b92c9fcf8",
   "metadata": {},
   "outputs": [],
   "source": [
    "import pandas as pd\n",
    "import numpy as np\n",
    "from string import printable\n",
    "from sklearn.model_selection import train_test_split\n",
    "from sklearn.preprocessing import LabelEncoder\n",
    "import tensorflow as tf  \n",
    "from tensorflow.keras.layers import Input, Embedding, Conv1D, MaxPooling1D, LSTM, Dropout, Dense\n",
    "from tensorflow.keras.models import Model\n",
    "from tensorflow.keras.optimizers import Adam\n",
    "from tensorflow.keras.preprocessing import sequence\n",
    "from tensorflow.keras.utils import plot_model\n",
    "import warnings\n",
    "warnings.filterwarnings(\"ignore\")\n"
   ]
  },
  {
   "cell_type": "code",
   "execution_count": 2,
   "id": "f0c70e6b-df36-4075-b507-38d43bb3812e",
   "metadata": {},
   "outputs": [],
   "source": [
    "df = pd.read_csv('dataset/dataset.csv')\n",
    "url_int_tokens = [[printable.index(x) + 1 for x in url if x in printable] for url in df.url]\n",
    "max_len = 75\n",
    "X = sequence.pad_sequences(url_int_tokens, maxlen=max_len)\n",
    "target = np.array(df.isMalicious)\n"
   ]
  },
  {
   "cell_type": "code",
   "execution_count": 3,
   "id": "ddc9522c-68f8-4eb0-87b4-3e18553484f6",
   "metadata": {},
   "outputs": [],
   "source": [
    "X_train, X_test, target_train, target_test = train_test_split(X, target, test_size=0.2, random_state=42)\n"
   ]
  },
  {
   "cell_type": "code",
   "execution_count": 5,
   "id": "90a89b30",
   "metadata": {},
   "outputs": [],
   "source": [
    "#new tuned model\n",
    "\n",
    "\n",
    "def lstm_conv(max_len=75, emb_dim=32, max_vocab_len=100, lstm_output_size=64, W_reg=tf.keras.regularizers.l2(1e-4)):\n",
    "    main_input = Input(shape=(max_len,), dtype=tf.int32, name='main_input')\n",
    "    emb = Embedding(input_dim=max_vocab_len, output_dim=emb_dim, embeddings_regularizer=W_reg)(main_input)\n",
    "    emb = Dropout(0.25)(emb)\n",
    "\n",
    "    conv = Conv1D(filters=512, kernel_size=5, padding='same')(emb)\n",
    "    conv = tf.keras.layers.ELU()(conv)\n",
    "    conv = MaxPooling1D(pool_size=4)(conv)\n",
    "    conv = Dropout(0.5)(conv)\n",
    "\n",
    "    conv = Conv1D(filters=512, kernel_size=6, padding='same')(conv)\n",
    "    conv = tf.keras.layers.ELU()(conv)\n",
    "    conv = MaxPooling1D(pool_size=4)(conv)\n",
    "    conv = Dropout(0.5)(conv)\n",
    "\n",
    "    conv = Conv1D(filters=512, kernel_size=7, padding='same')(conv)\n",
    "    conv = tf.keras.layers.ELU()(conv)\n",
    "    conv = MaxPooling1D(pool_size=4)(conv)\n",
    "    conv = Dropout(0.5)(conv)\n",
    "\n",
    "    lstm = LSTM(lstm_output_size)(conv)\n",
    "    lstm = Dropout(0.5)(lstm)\n",
    "\n",
    "    dense = Dense(64, activation='relu')(lstm)\n",
    "    dense = Dropout(0.5)(dense)\n",
    "\n",
    "    output = Dense(1, activation='sigmoid', name='output')(dense)\n",
    "\n",
    "    model = Model(inputs=[main_input], outputs=[output])\n",
    "    adam = Adam(learning_rate=1e-4, beta_1=0.9, beta_2=0.999, epsilon=1e-08)\n",
    "    model.compile(optimizer=adam, loss='binary_crossentropy', metrics=['accuracy'])\n",
    "    return model\n"
   ]
  },
  {
   "cell_type": "code",
   "execution_count": 4,
   "id": "ccc92b77-37fe-428c-b7a2-247e2f698bb0",
   "metadata": {},
   "outputs": [],
   "source": [
    "#old model\n",
    "\n",
    "def lstm_conv(max_len=75, emb_dim=32, max_vocab_len=100, lstm_output_size=32, W_reg=tf.keras.regularizers.l2(1e-4)):\n",
    "    main_input = Input(shape=(max_len,), dtype=tf.int32, name='main_input')\n",
    "    emb = Embedding(input_dim=max_vocab_len, output_dim=emb_dim, embeddings_regularizer=W_reg)(main_input)\n",
    "    emb = Dropout(0.25)(emb)\n",
    "    conv = Conv1D(filters=256, kernel_size=5, padding='same')(emb)\n",
    "    conv = tf.keras.layers.ELU()(conv)\n",
    "    conv = MaxPooling1D(pool_size=4)(conv)\n",
    "    conv = Dropout(0.5)(conv)\n",
    "    conv = Conv1D(filters=256, kernel_size=6, padding='same')(emb)\n",
    "    conv = tf.keras.layers.ELU()(conv)\n",
    "    conv = MaxPooling1D(pool_size=4)(conv)\n",
    "    conv = Dropout(0.5)(conv)\n",
    "\n",
    "    conv = Conv1D(filters=256, kernel_size=7, padding='same')(emb)\n",
    "    conv = tf.keras.layers.ELU()(conv)\n",
    "    conv = MaxPooling1D(pool_size=4)(conv)\n",
    "    conv = Dropout(0.5)(conv)\n",
    "\n",
    "    lstm = LSTM(lstm_output_size)(conv)\n",
    "    lstm = Dropout(0.5)(lstm)\n",
    "\n",
    "    output = Dense(1, activation='sigmoid', name='output')(lstm)\n",
    "\n",
    "    model = Model(inputs=[main_input], outputs=[output])\n",
    "    adam = Adam(learning_rate=1e-4, beta_1=0.9, beta_2=0.999, epsilon=1e-08)\n",
    "    model.compile(optimizer=adam, loss='binary_crossentropy', metrics=['accuracy'])\n",
    "    return model\n"
   ]
  },
  {
   "cell_type": "markdown",
   "id": "f9bcb242",
   "metadata": {},
   "source": [
    "# 20 Epochs ================================================================="
   ]
  },
  {
   "cell_type": "code",
   "execution_count": null,
   "id": "a857992f-1ce5-4ae8-8bd2-42ab7ba736cc",
   "metadata": {},
   "outputs": [],
   "source": [
    "epochs = 20\n",
    "batch_size = 32\n",
    "model = lstm_conv()\n",
    "model.fit(X_train, target_train, epochs=epochs, batch_size=batch_size)\n"
   ]
  },
  {
   "cell_type": "code",
   "execution_count": null,
   "id": "8c005b2f",
   "metadata": {},
   "outputs": [],
   "source": [
    "loss, accuracy = model.evaluate(X_test, target_test, verbose=0)\n",
    "print('Test Loss:', loss)\n",
    "print('Test Accuracy:', accuracy)\n"
   ]
  },
  {
   "cell_type": "code",
   "execution_count": 17,
   "id": "af6de775-b69f-465e-a621-4244debdffd4",
   "metadata": {},
   "outputs": [
    {
     "name": "stdout",
     "output_type": "stream",
     "text": [
      "Model saved\n"
     ]
    }
   ],
   "source": [
    "# Save the model 20 epoch in keras format\n",
    "try:\n",
    "    model.save('models/model_20.keras')\n",
    "    print(\"Model saved\")\n",
    "except:\n",
    "    print(\"Saving failed\")"
   ]
  },
  {
   "cell_type": "markdown",
   "id": "21c91b2f",
   "metadata": {},
   "source": [
    "# 40 Epochs =============================================================="
   ]
  },
  {
   "cell_type": "code",
   "execution_count": 6,
   "id": "3b13c5de",
   "metadata": {},
   "outputs": [
    {
     "name": "stderr",
     "output_type": "stream",
     "text": [
      "2024-01-29 19:20:29.078832: I metal_plugin/src/device/metal_device.cc:1154] Metal device set to: Apple M1\n",
      "2024-01-29 19:20:29.078856: I metal_plugin/src/device/metal_device.cc:296] systemMemory: 16.00 GB\n",
      "2024-01-29 19:20:29.078862: I metal_plugin/src/device/metal_device.cc:313] maxCacheSize: 5.33 GB\n",
      "2024-01-29 19:20:29.078903: I tensorflow/core/common_runtime/pluggable_device/pluggable_device_factory.cc:306] Could not identify NUMA node of platform GPU ID 0, defaulting to 0. Your kernel may not have been built with NUMA support.\n",
      "2024-01-29 19:20:29.078927: I tensorflow/core/common_runtime/pluggable_device/pluggable_device_factory.cc:272] Created TensorFlow device (/job:localhost/replica:0/task:0/device:GPU:0 with 0 MB memory) -> physical PluggableDevice (device: 0, name: METAL, pci bus id: <undefined>)\n"
     ]
    },
    {
     "name": "stdout",
     "output_type": "stream",
     "text": [
      "Epoch 1/40\n"
     ]
    },
    {
     "name": "stderr",
     "output_type": "stream",
     "text": [
      "2024-01-29 19:20:30.241801: I tensorflow/core/grappler/optimizers/custom_graph_optimizer_registry.cc:117] Plugin optimizer for device_type GPU is enabled.\n"
     ]
    },
    {
     "name": "stdout",
     "output_type": "stream",
     "text": [
      "\u001b[1m4871/4871\u001b[0m \u001b[32m━━━━━━━━━━━━━━━━━━━━\u001b[0m\u001b[37m\u001b[0m \u001b[1m449s\u001b[0m 92ms/step - accuracy: 0.7297 - loss: 0.5011\n",
      "Epoch 2/40\n",
      "\u001b[1m4871/4871\u001b[0m \u001b[32m━━━━━━━━━━━━━━━━━━━━\u001b[0m\u001b[37m\u001b[0m \u001b[1m433s\u001b[0m 89ms/step - accuracy: 0.8882 - loss: 0.2815\n",
      "Epoch 3/40\n",
      "\u001b[1m4871/4871\u001b[0m \u001b[32m━━━━━━━━━━━━━━━━━━━━\u001b[0m\u001b[37m\u001b[0m \u001b[1m395s\u001b[0m 81ms/step - accuracy: 0.9041 - loss: 0.2430\n",
      "Epoch 4/40\n",
      "\u001b[1m4871/4871\u001b[0m \u001b[32m━━━━━━━━━━━━━━━━━━━━\u001b[0m\u001b[37m\u001b[0m \u001b[1m309s\u001b[0m 63ms/step - accuracy: 0.9138 - loss: 0.2188\n",
      "Epoch 5/40\n",
      "\u001b[1m4871/4871\u001b[0m \u001b[32m━━━━━━━━━━━━━━━━━━━━\u001b[0m\u001b[37m\u001b[0m \u001b[1m309s\u001b[0m 64ms/step - accuracy: 0.9184 - loss: 0.2071\n",
      "Epoch 6/40\n",
      "\u001b[1m4871/4871\u001b[0m \u001b[32m━━━━━━━━━━━━━━━━━━━━\u001b[0m\u001b[37m\u001b[0m \u001b[1m309s\u001b[0m 63ms/step - accuracy: 0.9249 - loss: 0.1944\n",
      "Epoch 7/40\n",
      "\u001b[1m4871/4871\u001b[0m \u001b[32m━━━━━━━━━━━━━━━━━━━━\u001b[0m\u001b[37m\u001b[0m \u001b[1m308s\u001b[0m 63ms/step - accuracy: 0.9270 - loss: 0.1868\n",
      "Epoch 8/40\n",
      "\u001b[1m4871/4871\u001b[0m \u001b[32m━━━━━━━━━━━━━━━━━━━━\u001b[0m\u001b[37m\u001b[0m \u001b[1m310s\u001b[0m 64ms/step - accuracy: 0.9288 - loss: 0.1806\n",
      "Epoch 9/40\n",
      "\u001b[1m4871/4871\u001b[0m \u001b[32m━━━━━━━━━━━━━━━━━━━━\u001b[0m\u001b[37m\u001b[0m \u001b[1m310s\u001b[0m 64ms/step - accuracy: 0.9321 - loss: 0.1730\n",
      "Epoch 10/40\n",
      "\u001b[1m4871/4871\u001b[0m \u001b[32m━━━━━━━━━━━━━━━━━━━━\u001b[0m\u001b[37m\u001b[0m \u001b[1m310s\u001b[0m 64ms/step - accuracy: 0.9339 - loss: 0.1687\n",
      "Epoch 11/40\n",
      "\u001b[1m4871/4871\u001b[0m \u001b[32m━━━━━━━━━━━━━━━━━━━━\u001b[0m\u001b[37m\u001b[0m \u001b[1m310s\u001b[0m 64ms/step - accuracy: 0.9386 - loss: 0.1612\n",
      "Epoch 12/40\n",
      "\u001b[1m4871/4871\u001b[0m \u001b[32m━━━━━━━━━━━━━━━━━━━━\u001b[0m\u001b[37m\u001b[0m \u001b[1m310s\u001b[0m 64ms/step - accuracy: 0.9368 - loss: 0.1616\n",
      "Epoch 13/40\n",
      "\u001b[1m4871/4871\u001b[0m \u001b[32m━━━━━━━━━━━━━━━━━━━━\u001b[0m\u001b[37m\u001b[0m \u001b[1m310s\u001b[0m 64ms/step - accuracy: 0.9392 - loss: 0.1566\n",
      "Epoch 14/40\n",
      "\u001b[1m4871/4871\u001b[0m \u001b[32m━━━━━━━━━━━━━━━━━━━━\u001b[0m\u001b[37m\u001b[0m \u001b[1m311s\u001b[0m 64ms/step - accuracy: 0.9427 - loss: 0.1491\n",
      "Epoch 15/40\n",
      "\u001b[1m4871/4871\u001b[0m \u001b[32m━━━━━━━━━━━━━━━━━━━━\u001b[0m\u001b[37m\u001b[0m \u001b[1m311s\u001b[0m 64ms/step - accuracy: 0.9420 - loss: 0.1486\n",
      "Epoch 16/40\n",
      "\u001b[1m4871/4871\u001b[0m \u001b[32m━━━━━━━━━━━━━━━━━━━━\u001b[0m\u001b[37m\u001b[0m \u001b[1m312s\u001b[0m 64ms/step - accuracy: 0.9433 - loss: 0.1459\n",
      "Epoch 17/40\n",
      "\u001b[1m4871/4871\u001b[0m \u001b[32m━━━━━━━━━━━━━━━━━━━━\u001b[0m\u001b[37m\u001b[0m \u001b[1m312s\u001b[0m 64ms/step - accuracy: 0.9438 - loss: 0.1446\n",
      "Epoch 18/40\n",
      "\u001b[1m4871/4871\u001b[0m \u001b[32m━━━━━━━━━━━━━━━━━━━━\u001b[0m\u001b[37m\u001b[0m \u001b[1m311s\u001b[0m 64ms/step - accuracy: 0.9451 - loss: 0.1417\n",
      "Epoch 19/40\n",
      "\u001b[1m4871/4871\u001b[0m \u001b[32m━━━━━━━━━━━━━━━━━━━━\u001b[0m\u001b[37m\u001b[0m \u001b[1m312s\u001b[0m 64ms/step - accuracy: 0.9463 - loss: 0.1385\n",
      "Epoch 20/40\n",
      "\u001b[1m4871/4871\u001b[0m \u001b[32m━━━━━━━━━━━━━━━━━━━━\u001b[0m\u001b[37m\u001b[0m \u001b[1m312s\u001b[0m 64ms/step - accuracy: 0.9459 - loss: 0.1387\n",
      "Epoch 21/40\n",
      "\u001b[1m4871/4871\u001b[0m \u001b[32m━━━━━━━━━━━━━━━━━━━━\u001b[0m\u001b[37m\u001b[0m \u001b[1m311s\u001b[0m 64ms/step - accuracy: 0.9487 - loss: 0.1330\n",
      "Epoch 22/40\n",
      "\u001b[1m4871/4871\u001b[0m \u001b[32m━━━━━━━━━━━━━━━━━━━━\u001b[0m\u001b[37m\u001b[0m \u001b[1m312s\u001b[0m 64ms/step - accuracy: 0.9479 - loss: 0.1344\n",
      "Epoch 23/40\n",
      "\u001b[1m4871/4871\u001b[0m \u001b[32m━━━━━━━━━━━━━━━━━━━━\u001b[0m\u001b[37m\u001b[0m \u001b[1m312s\u001b[0m 64ms/step - accuracy: 0.9496 - loss: 0.1293\n",
      "Epoch 24/40\n",
      "\u001b[1m4871/4871\u001b[0m \u001b[32m━━━━━━━━━━━━━━━━━━━━\u001b[0m\u001b[37m\u001b[0m \u001b[1m312s\u001b[0m 64ms/step - accuracy: 0.9507 - loss: 0.1277\n",
      "Epoch 25/40\n",
      "\u001b[1m4871/4871\u001b[0m \u001b[32m━━━━━━━━━━━━━━━━━━━━\u001b[0m\u001b[37m\u001b[0m \u001b[1m312s\u001b[0m 64ms/step - accuracy: 0.9523 - loss: 0.1240\n",
      "Epoch 26/40\n",
      "\u001b[1m4871/4871\u001b[0m \u001b[32m━━━━━━━━━━━━━━━━━━━━\u001b[0m\u001b[37m\u001b[0m \u001b[1m312s\u001b[0m 64ms/step - accuracy: 0.9510 - loss: 0.1264\n",
      "Epoch 27/40\n",
      "\u001b[1m4871/4871\u001b[0m \u001b[32m━━━━━━━━━━━━━━━━━━━━\u001b[0m\u001b[37m\u001b[0m \u001b[1m312s\u001b[0m 64ms/step - accuracy: 0.9521 - loss: 0.1226\n",
      "Epoch 28/40\n",
      "\u001b[1m4871/4871\u001b[0m \u001b[32m━━━━━━━━━━━━━━━━━━━━\u001b[0m\u001b[37m\u001b[0m \u001b[1m302s\u001b[0m 62ms/step - accuracy: 0.9526 - loss: 0.1214\n",
      "Epoch 29/40\n",
      "\u001b[1m4871/4871\u001b[0m \u001b[32m━━━━━━━━━━━━━━━━━━━━\u001b[0m\u001b[37m\u001b[0m \u001b[1m307s\u001b[0m 63ms/step - accuracy: 0.9518 - loss: 0.1220\n",
      "Epoch 30/40\n",
      "\u001b[1m4871/4871\u001b[0m \u001b[32m━━━━━━━━━━━━━━━━━━━━\u001b[0m\u001b[37m\u001b[0m \u001b[1m312s\u001b[0m 64ms/step - accuracy: 0.9532 - loss: 0.1204\n",
      "Epoch 31/40\n",
      "\u001b[1m4871/4871\u001b[0m \u001b[32m━━━━━━━━━━━━━━━━━━━━\u001b[0m\u001b[37m\u001b[0m \u001b[1m312s\u001b[0m 64ms/step - accuracy: 0.9539 - loss: 0.1186\n",
      "Epoch 32/40\n",
      "\u001b[1m4871/4871\u001b[0m \u001b[32m━━━━━━━━━━━━━━━━━━━━\u001b[0m\u001b[37m\u001b[0m \u001b[1m312s\u001b[0m 64ms/step - accuracy: 0.9544 - loss: 0.1172\n",
      "Epoch 33/40\n",
      "\u001b[1m4871/4871\u001b[0m \u001b[32m━━━━━━━━━━━━━━━━━━━━\u001b[0m\u001b[37m\u001b[0m \u001b[1m303s\u001b[0m 62ms/step - accuracy: 0.9547 - loss: 0.1175\n",
      "Epoch 34/40\n",
      "\u001b[1m4871/4871\u001b[0m \u001b[32m━━━━━━━━━━━━━━━━━━━━\u001b[0m\u001b[37m\u001b[0m \u001b[1m303s\u001b[0m 62ms/step - accuracy: 0.9572 - loss: 0.1130\n",
      "Epoch 35/40\n",
      "\u001b[1m4871/4871\u001b[0m \u001b[32m━━━━━━━━━━━━━━━━━━━━\u001b[0m\u001b[37m\u001b[0m \u001b[1m307s\u001b[0m 63ms/step - accuracy: 0.9559 - loss: 0.1157\n",
      "Epoch 36/40\n",
      "\u001b[1m4871/4871\u001b[0m \u001b[32m━━━━━━━━━━━━━━━━━━━━\u001b[0m\u001b[37m\u001b[0m \u001b[1m312s\u001b[0m 64ms/step - accuracy: 0.9569 - loss: 0.1106\n",
      "Epoch 37/40\n",
      "\u001b[1m4871/4871\u001b[0m \u001b[32m━━━━━━━━━━━━━━━━━━━━\u001b[0m\u001b[37m\u001b[0m \u001b[1m312s\u001b[0m 64ms/step - accuracy: 0.9574 - loss: 0.1109\n",
      "Epoch 38/40\n",
      "\u001b[1m4871/4871\u001b[0m \u001b[32m━━━━━━━━━━━━━━━━━━━━\u001b[0m\u001b[37m\u001b[0m \u001b[1m313s\u001b[0m 64ms/step - accuracy: 0.9588 - loss: 0.1101\n",
      "Epoch 39/40\n",
      "\u001b[1m4871/4871\u001b[0m \u001b[32m━━━━━━━━━━━━━━━━━━━━\u001b[0m\u001b[37m\u001b[0m \u001b[1m313s\u001b[0m 64ms/step - accuracy: 0.9572 - loss: 0.1104\n",
      "Epoch 40/40\n",
      "\u001b[1m4871/4871\u001b[0m \u001b[32m━━━━━━━━━━━━━━━━━━━━\u001b[0m\u001b[37m\u001b[0m \u001b[1m315s\u001b[0m 65ms/step - accuracy: 0.9587 - loss: 0.1069\n"
     ]
    },
    {
     "data": {
      "text/plain": [
       "<keras.src.callbacks.history.History at 0x2cd054490>"
      ]
     },
     "execution_count": 6,
     "metadata": {},
     "output_type": "execute_result"
    }
   ],
   "source": [
    "#40 epoch in keras\n",
    "epochs = 40\n",
    "batch_size = 32\n",
    "model = lstm_conv()\n",
    "model.fit(X_train, target_train, epochs=epochs, batch_size=batch_size)\n"
   ]
  },
  {
   "cell_type": "code",
   "execution_count": 7,
   "id": "357520eb",
   "metadata": {},
   "outputs": [
    {
     "name": "stdout",
     "output_type": "stream",
     "text": [
      "Test Loss: 0.11938583105802536\n",
      "Test Accuracy: 0.9585443139076233\n"
     ]
    }
   ],
   "source": [
    "loss, accuracy = model.evaluate(X_test, target_test, verbose=0)\n",
    "print('Test Loss:', loss)\n",
    "print('Test Accuracy:', accuracy)"
   ]
  },
  {
   "cell_type": "code",
   "execution_count": 8,
   "id": "523bde63",
   "metadata": {},
   "outputs": [
    {
     "name": "stdout",
     "output_type": "stream",
     "text": [
      "Model saved\n"
     ]
    }
   ],
   "source": [
    "# Save the model 40 epoch in keras format\n",
    "try:\n",
    "    model.save('models/model_40.keras')\n",
    "    print(\"Model saved\")\n",
    "except:\n",
    "    print(\"Saving failed\")"
   ]
  },
  {
   "cell_type": "code",
   "execution_count": 18,
   "id": "a9b0e385-0fa8-4235-a471-2b158ed9b4a7",
   "metadata": {},
   "outputs": [],
   "source": [
    "# Load the model\n",
    "loaded_model = tf.keras.models.load_model('models/model_40.keras')"
   ]
  },
  {
   "cell_type": "code",
   "execution_count": 4,
   "id": "13358099-529a-4630-9dc0-5b0964de5256",
   "metadata": {},
   "outputs": [
    {
     "ename": "NameError",
     "evalue": "name 'X_test' is not defined",
     "output_type": "error",
     "traceback": [
      "\u001b[0;31m---------------------------------------------------------------------------\u001b[0m",
      "\u001b[0;31mNameError\u001b[0m                                 Traceback (most recent call last)",
      "Cell \u001b[0;32mIn[4], line 5\u001b[0m\n\u001b[1;32m      2\u001b[0m loaded_model \u001b[38;5;241m=\u001b[39m tf\u001b[38;5;241m.\u001b[39mkeras\u001b[38;5;241m.\u001b[39mmodels\u001b[38;5;241m.\u001b[39mload_model(\u001b[38;5;124m'\u001b[39m\u001b[38;5;124mmodels/model_40.keras\u001b[39m\u001b[38;5;124m'\u001b[39m)\n\u001b[1;32m      4\u001b[0m \u001b[38;5;66;03m# Evaluate the loaded model on the test data\u001b[39;00m\n\u001b[0;32m----> 5\u001b[0m loss, accuracy \u001b[38;5;241m=\u001b[39m loaded_model\u001b[38;5;241m.\u001b[39mevaluate(\u001b[43mX_test\u001b[49m, target_test, verbose\u001b[38;5;241m=\u001b[39m\u001b[38;5;241m1\u001b[39m)\n\u001b[1;32m      6\u001b[0m \u001b[38;5;28mprint\u001b[39m(\u001b[38;5;124m'\u001b[39m\u001b[38;5;130;01m\\n\u001b[39;00m\u001b[38;5;124mFinal Evaluation Accuracy:\u001b[39m\u001b[38;5;124m'\u001b[39m, accuracy, \u001b[38;5;124m'\u001b[39m\u001b[38;5;130;01m\\n\u001b[39;00m\u001b[38;5;124m'\u001b[39m)\n\u001b[1;32m      8\u001b[0m \u001b[38;5;66;03m# Get probabilities of target predictions\u001b[39;00m\n",
      "\u001b[0;31mNameError\u001b[0m: name 'X_test' is not defined"
     ]
    }
   ],
   "source": [
    "# Load the model\n",
    "loaded_model = tf.keras.models.load_model('models/model_40.keras')\n",
    "\n",
    "# Evaluate the loaded model on the test data\n",
    "loss, accuracy = loaded_model.evaluate(X_test, target_test, verbose=1)\n",
    "print('\\nFinal Evaluation Accuracy:', accuracy, '\\n')\n",
    "\n",
    "# Get probabilities of target predictions\n",
    "probabilities = loaded_model.predict(X_test)\n",
    "\n",
    "# Display the first few probabilities\n",
    "print('Probabilities of Target Predictions:')\n",
    "print(probabilities[:5])\n"
   ]
  },
  {
   "cell_type": "code",
   "execution_count": 3,
   "id": "79af7778-d5cb-47bc-8a3a-a3fa3cda9305",
   "metadata": {},
   "outputs": [],
   "source": [
    "def print_result(proba):\n",
    "    if proba > 0.5:\n",
    "        return \"malicious\"\n",
    "    else:\n",
    "        return \"safe\""
   ]
  },
  {
   "cell_type": "code",
   "execution_count": 2,
   "id": "091bff0e-fb9d-4fdc-b582-fdd2486186b2",
   "metadata": {},
   "outputs": [
    {
     "ename": "NameError",
     "evalue": "name 'printable' is not defined",
     "output_type": "error",
     "traceback": [
      "\u001b[0;31m---------------------------------------------------------------------------\u001b[0m",
      "\u001b[0;31mNameError\u001b[0m                                 Traceback (most recent call last)",
      "Cell \u001b[0;32mIn[2], line 3\u001b[0m\n\u001b[1;32m      1\u001b[0m url\u001b[38;5;241m=\u001b[39m\u001b[38;5;28minput\u001b[39m(\u001b[38;5;124m\"\u001b[39m\u001b[38;5;124mEnter URL\u001b[39m\u001b[38;5;124m\"\u001b[39m)\n\u001b[0;32m----> 3\u001b[0m url_int_tokens \u001b[38;5;241m=\u001b[39m [[printable\u001b[38;5;241m.\u001b[39mindex(x) \u001b[38;5;241m+\u001b[39m \u001b[38;5;241m1\u001b[39m \u001b[38;5;28;01mfor\u001b[39;00m x \u001b[38;5;129;01min\u001b[39;00m url \u001b[38;5;28;01mif\u001b[39;00m x \u001b[38;5;129;01min\u001b[39;00m printable]]\n\u001b[1;32m      5\u001b[0m max_len\u001b[38;5;241m=\u001b[39m\u001b[38;5;241m75\u001b[39m\n\u001b[1;32m      6\u001b[0m X \u001b[38;5;241m=\u001b[39m sequence\u001b[38;5;241m.\u001b[39mpad_sequences(url_int_tokens, maxlen\u001b[38;5;241m=\u001b[39mmax_len)\n",
      "Cell \u001b[0;32mIn[2], line 3\u001b[0m, in \u001b[0;36m<listcomp>\u001b[0;34m(.0)\u001b[0m\n\u001b[1;32m      1\u001b[0m url\u001b[38;5;241m=\u001b[39m\u001b[38;5;28minput\u001b[39m(\u001b[38;5;124m\"\u001b[39m\u001b[38;5;124mEnter URL\u001b[39m\u001b[38;5;124m\"\u001b[39m)\n\u001b[0;32m----> 3\u001b[0m url_int_tokens \u001b[38;5;241m=\u001b[39m [[printable\u001b[38;5;241m.\u001b[39mindex(x) \u001b[38;5;241m+\u001b[39m \u001b[38;5;241m1\u001b[39m \u001b[38;5;28;01mfor\u001b[39;00m x \u001b[38;5;129;01min\u001b[39;00m url \u001b[38;5;28;01mif\u001b[39;00m x \u001b[38;5;129;01min\u001b[39;00m \u001b[43mprintable\u001b[49m]]\n\u001b[1;32m      5\u001b[0m max_len\u001b[38;5;241m=\u001b[39m\u001b[38;5;241m75\u001b[39m\n\u001b[1;32m      6\u001b[0m X \u001b[38;5;241m=\u001b[39m sequence\u001b[38;5;241m.\u001b[39mpad_sequences(url_int_tokens, maxlen\u001b[38;5;241m=\u001b[39mmax_len)\n",
      "\u001b[0;31mNameError\u001b[0m: name 'printable' is not defined"
     ]
    }
   ],
   "source": [
    "url=input(\"Enter URL\")\n",
    "\n",
    "url_int_tokens = [[printable.index(x) + 1 for x in url if x in printable]]\n",
    "\n",
    "max_len=75\n",
    "X = sequence.pad_sequences(url_int_tokens, maxlen=max_len)\n",
    "probab=loaded_model.predict(X,batch_size=1)\n",
    "print(print_result(probab))"
   ]
  },
  {
   "cell_type": "code",
   "execution_count": 1,
   "id": "d3369557-0318-468c-83e0-7cb9bbe0ce08",
   "metadata": {},
   "outputs": [
    {
     "name": "stderr",
     "output_type": "stream",
     "text": [
      "2024-01-30 13:36:11.115569: I metal_plugin/src/device/metal_device.cc:1154] Metal device set to: Apple M1\n",
      "2024-01-30 13:36:11.115597: I metal_plugin/src/device/metal_device.cc:296] systemMemory: 16.00 GB\n",
      "2024-01-30 13:36:11.115602: I metal_plugin/src/device/metal_device.cc:313] maxCacheSize: 5.33 GB\n",
      "2024-01-30 13:36:11.115638: I tensorflow/core/common_runtime/pluggable_device/pluggable_device_factory.cc:306] Could not identify NUMA node of platform GPU ID 0, defaulting to 0. Your kernel may not have been built with NUMA support.\n",
      "2024-01-30 13:36:11.115659: I tensorflow/core/common_runtime/pluggable_device/pluggable_device_factory.cc:272] Created TensorFlow device (/job:localhost/replica:0/task:0/device:GPU:0 with 0 MB memory) -> physical PluggableDevice (device: 0, name: METAL, pci bus id: <undefined>)\n",
      "/Users/li/anaconda3/envs/tf/lib/python3.9/site-packages/keras/src/saving/saving_lib.py:355: UserWarning: Skipping variable loading for optimizer 'rmsprop', because it has 10 variables whereas the saved optimizer has 18 variables. \n",
      "  trackable.load_own_variables(weights_store.get(inner_path))\n"
     ]
    },
    {
     "name": "stdout",
     "output_type": "stream",
     "text": [
      "\u001b[1m1/1\u001b[0m \u001b[32m━━━━━━━━━━━━━━━━━━━━\u001b[0m\u001b[37m\u001b[0m \u001b[1m0s\u001b[0m 234ms/step\n"
     ]
    },
    {
     "name": "stderr",
     "output_type": "stream",
     "text": [
      "2024-01-30 13:36:21.038472: I tensorflow/core/grappler/optimizers/custom_graph_optimizer_registry.cc:117] Plugin optimizer for device_type GPU is enabled.\n"
     ]
    }
   ],
   "source": [
    "import tkinter as tk\n",
    "from tkinter import messagebox\n",
    "from tensorflow.keras.preprocessing import sequence\n",
    "import tensorflow as tf\n",
    "import string  \n",
    "\n",
    "# Load the model\n",
    "loaded_model = tf.keras.models.load_model('models/model_20.keras')\n",
    "\n",
    "def check_url():\n",
    "    url = entry.get()\n",
    "\n",
    "    # Define printable here\n",
    "    printable = string.printable\n",
    "    \n",
    "    # Preprocess the URL\n",
    "    url_int_tokens = [[printable.index(x) + 1 for x in url if x in printable]]\n",
    "    X_input = sequence.pad_sequences(url_int_tokens, maxlen=75)\n",
    "    \n",
    "    # Get the probability of being malicious\n",
    "    probability = loaded_model.predict(X_input)[0][0]\n",
    "    \n",
    "    # Display the result\n",
    "    if probability > 0.5:\n",
    "        result = \"Malicious\"\n",
    "    else:\n",
    "        result = \"Safe\"\n",
    "    \n",
    "    messagebox.showinfo(\"Result\", f\"The URL is predicted as: {result}\\nProbability: {probability:.2f}\")\n",
    "\n",
    "# Create the main window\n",
    "root = tk.Tk()\n",
    "root.title(\"URL Checker\")\n",
    "\n",
    "# Create UI elements\n",
    "label = tk.Label(root, text=\"Enter URL:\")\n",
    "label.pack(pady=10)\n",
    "\n",
    "entry = tk.Entry(root, width=40)\n",
    "entry.pack(pady=10)\n",
    "\n",
    "button = tk.Button(root, text=\"Check URL\", command=check_url)\n",
    "button.pack(pady=20)\n",
    "\n",
    "# Run the Tkinter event loop\n",
    "root.mainloop()\n"
   ]
  },
  {
   "cell_type": "code",
   "execution_count": null,
   "id": "f6d408ec-d45d-4f7f-b807-7ec54e042ea9",
   "metadata": {},
   "outputs": [],
   "source": []
  },
  {
   "cell_type": "code",
   "execution_count": null,
   "id": "d4fe38b3-022d-452c-8b8f-f9e4a0715899",
   "metadata": {},
   "outputs": [],
   "source": []
  }
 ],
 "metadata": {
  "kernelspec": {
   "display_name": "Python 3 (ipykernel)",
   "language": "python",
   "name": "python3"
  },
  "language_info": {
   "codemirror_mode": {
    "name": "ipython",
    "version": 3
   },
   "file_extension": ".py",
   "mimetype": "text/x-python",
   "name": "python",
   "nbconvert_exporter": "python",
   "pygments_lexer": "ipython3",
   "version": "3.9.18"
  }
 },
 "nbformat": 4,
 "nbformat_minor": 5
}
